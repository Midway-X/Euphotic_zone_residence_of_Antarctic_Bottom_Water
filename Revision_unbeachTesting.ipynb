{
 "cells": [
  {
   "cell_type": "markdown",
   "id": "0e418bdb-f222-40c0-848b-40cc4100e830",
   "metadata": {},
   "source": [
    "# \"Euphotic zone residence time of Antarctic Bottom Water\"\n",
    "\n",
    "### Code for Analyzing Unbeaching Kernel Activation \n",
    "\n",
    "Corresponding to Yinghuan Xie (yinghuan.xie@utas.edu.au)"
   ]
  },
  {
   "cell_type": "code",
   "execution_count": 2,
   "id": "2ae74232-79c5-4730-89fe-c02894cf58d6",
   "metadata": {},
   "outputs": [],
   "source": [
    "# Importing the relevant modules. \n",
    "import numpy as np\n",
    "import xarray as xr\n",
    "import math\n",
    "import time\n",
    "import datetime as dt\n",
    "from datetime import timedelta\n",
    "import calendar\n",
    "import os\n",
    "import re\n",
    "from glob import glob\n",
    "#\n",
    "import netCDF4 as nc\n",
    "import pandas as pd\n",
    "import gsw\n",
    "#\n",
    "import cartopy.crs as ccrs\n",
    "from scipy.io import loadmat\n",
    "#\n",
    "import matplotlib.pyplot as plt\n",
    "import matplotlib.colors as col\n",
    "\n",
    "#\n",
    "import cosima_cookbook as cc\n",
    "session =cc.database.create_session()\n",
    "expt = '01deg_jra55v13_ryf9091'\n",
    "#\n",
    "from os import sys\n",
    "sys.path.append('/home/581/yx9454/PhD_Ch1')\n",
    "from My_Py_Func import Ch1_defs as c1d"
   ]
  },
  {
   "cell_type": "code",
   "execution_count": 2,
   "id": "aa314cfb-84c1-4a4c-886e-d36010036af6",
   "metadata": {},
   "outputs": [],
   "source": [
    "# In each experiment, we define 06-18, release-06, 05-release, 87-05,\n",
    "# loop_start_point-87 (if availiable) as No 0,1,2,3,4(if availiable)\n",
    "\n",
    "master_path = '/g/data/jk72/yx9454/runs/parcels/output_after_Aug/'\n",
    "traj_input = {'MLS_ON':[{'out_freq': 5,\n",
    "                        'exp_path':'CORE_Curtain_Forward(out_freq=5days)_Following_MLS_ON/'},\n",
    "                        {'out_freq': 5,\n",
    "                        'exp_path':'CORE_Curtain_Forward(out_freq=5days)_Jan-Dec_MLS_ON/'},\n",
    "                        {'out_freq': 0.25,\n",
    "                        'exp_path':'CORE_Curtain_Backwards(out_freq=6hrs)_Jan-Dec_MLS_ON/'},\n",
    "                        {'out_freq': 0.25,\n",
    "                        'exp_path':'CORE_Curtain_Backwards(out_freq=6hrs)_Following_MLS_ON/'},\n",
    "                        {'out_freq': 0.25,\n",
    "                        'exp_path':'CORE_Curtain_Backwards(out_freq=6hrs)_Following_Loop_MLS_ON/'}],\n",
    "              'MLS_OFF':[{'out_freq': 5,\n",
    "                        'exp_path':'CORE_Curtain_Forward(out_freq=5days)_Following_MLS_OFF/'},\n",
    "                        {'out_freq': 5,\n",
    "                        'exp_path':'CORE_Curtain_Forward(out_freq=5days)_Jan-Dec_MLS_OFF/'},\n",
    "                        {'out_freq': 5,\n",
    "                        'exp_path':'CORE_Curtain_Backwards(out_freq=5day)_Jan-Dec_MLS_OFF/'},\n",
    "                        {'out_freq': 5,\n",
    "                        'exp_path':'CORE_Curtain_Backwards(out_freq=5days)_Following_MLS_OFF/'},\n",
    "                        {'out_freq': 5,\n",
    "                        'exp_path':'CORE_Curtain_Backwards(out_freq=5days)_Following_Loop_MLS_OFF/'}],\n",
    "              'MLS_Weak':[{'out_freq': 5,\n",
    "                        'exp_path':'CORE_Curtain_Forward(out_freq=5days)_Following_MLS_ON_middle_forw/'},\n",
    "                        {'out_freq': 5,\n",
    "                        'exp_path':'CORE_Curtain_Forward(out_freq=5days)_Jan-Dec_MLS_ON_middle_forw/'},\n",
    "                          {'out_freq': 5,\n",
    "                        'exp_path':'CORE_Curtain_Backwards(out_freq=6hrs)_Jan-Dec_MLS_ON_middle_back/'},\n",
    "                        {'out_freq': 5,\n",
    "                        'exp_path':'CORE_Curtain_Backwards(out_freq=6hrs)_Following_MLS_ON_middle_back/'},\n",
    "                        ]\n",
    "        }"
   ]
  },
  {
   "cell_type": "code",
   "execution_count": 3,
   "id": "83d6af98-c409-492a-bee7-8079c6eb3c22",
   "metadata": {},
   "outputs": [],
   "source": [
    "exp_name = 'MLS_ON'\n",
    "variables = {'id':'trajectory',  'unbeachCount': 'unbeachCount'  , 'time':'time',\n",
    "             #'T': 'temperature','S': 'salinity',\n",
    "             #'ML': 'mixedlayershuffle', 'MLD':'mldepth',\n",
    "             #'rel_id':'rel_id','rel_z':'rel_z','rel_m':'rel_m',\n",
    "            }"
   ]
  },
  {
   "cell_type": "markdown",
   "id": "e61e4cf4-0ada-41b7-94e8-d495ad9bc354",
   "metadata": {},
   "source": [
    "# Save the unbeachCount files\n",
    "Only run for the first time"
   ]
  },
  {
   "cell_type": "code",
   "execution_count": 4,
   "id": "abda08e3-9102-43bd-a308-db4ca63747fc",
   "metadata": {},
   "outputs": [
    {
     "name": "stdout",
     "output_type": "stream",
     "text": [
      "/g/data/jk72/yx9454/runs/parcels/output_after_Aug/CORE_Curtain_Forward(out_freq=5days)_Following_MLS_ON/Particles_001.nc\n",
      "/g/data/jk72/yx9454/runs/parcels/output_after_Aug/CORE_Curtain_Forward(out_freq=5days)_Following_MLS_ON/Particles_158.nc\n",
      "id\n",
      "unbeachCount\n",
      "time\n",
      "374.0430021286011\n"
     ]
    }
   ],
   "source": [
    "# Load traj files 0\n",
    "out_freq    = traj_input[exp_name][0]['out_freq']\n",
    "exp_path    = traj_input[exp_name][0]['exp_path']\n",
    "\n",
    "# Define the input files\n",
    "files = sorted(glob(master_path+exp_path+'*.nc'))\n",
    "files = files[1:]\n",
    "print(files[0])\n",
    "print(files[-1])\n",
    "\n",
    "t = time.time()\n",
    "#var_in_arrs = c1d.load_OP_traj_files_file_by_file(files,variables)\n",
    "var_in_arrs_0 = c1d.load_OP_traj_files_file_by_file_v2(files,variables)\n",
    "print(time.time()-t)\n"
   ]
  },
  {
   "cell_type": "code",
   "execution_count": 5,
   "id": "a1ec817c-f9f1-49af-a0a7-57e1cef21e5f",
   "metadata": {},
   "outputs": [
    {
     "name": "stdout",
     "output_type": "stream",
     "text": [
      "/g/data/jk72/yx9454/runs/parcels/output_after_Aug/CORE_Curtain_Forward(out_freq=5days)_Jan-Dec_MLS_ON/Month_01_Jan_release_MLS_ON\n",
      "id\n",
      "unbeachCount\n",
      "time\n",
      "3.982339859008789\n",
      "/g/data/jk72/yx9454/runs/parcels/output_after_Aug/CORE_Curtain_Forward(out_freq=5days)_Jan-Dec_MLS_ON/Month_02_Feb_release_MLS_ON\n",
      "id\n",
      "unbeachCount\n",
      "time\n",
      "3.7248852252960205\n",
      "/g/data/jk72/yx9454/runs/parcels/output_after_Aug/CORE_Curtain_Forward(out_freq=5days)_Jan-Dec_MLS_ON/Month_03_Mar_release_MLS_ON\n",
      "id\n",
      "unbeachCount\n",
      "time\n",
      "3.394073963165283\n",
      "/g/data/jk72/yx9454/runs/parcels/output_after_Aug/CORE_Curtain_Forward(out_freq=5days)_Jan-Dec_MLS_ON/Month_04_Apr_release_MLS_ON\n",
      "id\n",
      "unbeachCount\n",
      "time\n",
      "2.7813403606414795\n",
      "/g/data/jk72/yx9454/runs/parcels/output_after_Aug/CORE_Curtain_Forward(out_freq=5days)_Jan-Dec_MLS_ON/Month_05_May_release_MLS_ON\n",
      "id\n",
      "unbeachCount\n",
      "time\n",
      "2.998870849609375\n",
      "/g/data/jk72/yx9454/runs/parcels/output_after_Aug/CORE_Curtain_Forward(out_freq=5days)_Jan-Dec_MLS_ON/Month_06_Jun_release_MLS_ON\n",
      "id\n",
      "unbeachCount\n",
      "time\n",
      "2.3629534244537354\n",
      "/g/data/jk72/yx9454/runs/parcels/output_after_Aug/CORE_Curtain_Forward(out_freq=5days)_Jan-Dec_MLS_ON/Month_07_Jul_release_MLS_ON\n",
      "id\n",
      "unbeachCount\n",
      "time\n",
      "2.133392333984375\n",
      "/g/data/jk72/yx9454/runs/parcels/output_after_Aug/CORE_Curtain_Forward(out_freq=5days)_Jan-Dec_MLS_ON/Month_08_Aug_release_MLS_ON\n",
      "id\n",
      "unbeachCount\n",
      "time\n",
      "1.6917035579681396\n",
      "/g/data/jk72/yx9454/runs/parcels/output_after_Aug/CORE_Curtain_Forward(out_freq=5days)_Jan-Dec_MLS_ON/Month_09_Sep_release_MLS_ON\n",
      "id\n",
      "unbeachCount\n",
      "time\n",
      "1.3008995056152344\n",
      "/g/data/jk72/yx9454/runs/parcels/output_after_Aug/CORE_Curtain_Forward(out_freq=5days)_Jan-Dec_MLS_ON/Month_10_Oct_release_MLS_ON\n",
      "id\n",
      "unbeachCount\n",
      "time\n",
      "0.9721019268035889\n",
      "/g/data/jk72/yx9454/runs/parcels/output_after_Aug/CORE_Curtain_Forward(out_freq=5days)_Jan-Dec_MLS_ON/Month_11_Nov_release_MLS_ON\n",
      "id\n",
      "unbeachCount\n",
      "time\n",
      "0.6429533958435059\n",
      "/g/data/jk72/yx9454/runs/parcels/output_after_Aug/CORE_Curtain_Forward(out_freq=5days)_Jan-Dec_MLS_ON/Month_12_Dec_release_MLS_ON\n",
      "id\n",
      "unbeachCount\n",
      "time\n",
      "0.2660644054412842\n"
     ]
    }
   ],
   "source": [
    "# Load traj files 1\n",
    "out_freq    = traj_input[exp_name][1]['out_freq']\n",
    "exp_path    = traj_input[exp_name][1]['exp_path']\n",
    "dirs_1 = sorted(glob(master_path+exp_path+'*'))\n",
    "\n",
    "# Files 1 are for 2005.01.01-2006.01.01,\n",
    "# we applied a time selection to make sure no time step beyond is captured.\n",
    "# Time here is in nanoseconds (1000000000 times of seconds) since 1970,1,1\n",
    "time_max =  (dt.datetime(2006,1,1)  - dt.datetime(1970,1,1)).total_seconds()*1000000000\n",
    "time_min =  (dt.datetime(2004,12,31)- dt.datetime(1970,1,1)).total_seconds()*1000000000\n",
    "\n",
    "list_of_var_in_arrs = []\n",
    "for i in dirs_1:\n",
    "    print(i)\n",
    "    files = sorted(glob(i+'/*.nc'))\n",
    "    # Note that 'traj' is continous npts from 0, \n",
    "    # while 'trajectory' is particle id inherits from previous file\n",
    "    t = time.time()\n",
    "    #var_in_arrs = c1d.load_OP_traj_files_file_by_file(files,variables)\n",
    "    var_in_arrs = c1d.load_OP_traj_files_file_by_file_v2(files,variables)\n",
    "    print(time.time()-t)\n",
    "    \n",
    "    #Select obs within 2005\n",
    "    obs_mask = (var_in_arrs['time'][0,:]<time_max) & (var_in_arrs['time'][0,:]>time_min)\n",
    "    for v in variables:\n",
    "        if v != 'id':\n",
    "            #print(v)\n",
    "            var_in_arrs[v] = var_in_arrs[v][:,obs_mask]\n",
    "            nan_arr = np.zeros((var_in_arrs[v].shape[0],int(365/out_freq)-var_in_arrs[v].shape[1]))/0\n",
    "            var_in_arrs[v] = np.concatenate((nan_arr,var_in_arrs[v]),axis=1)\n",
    "            #var_in_arrs_forw_1st_year = \n",
    "    list_of_var_in_arrs.append(var_in_arrs)\n",
    "        \n",
    "# Combine each monthly array into one array        \n",
    "var_in_arrs_1 = {}\n",
    "for var in variables:\n",
    "    listhere = []\n",
    "    if var != 'id':\n",
    "        for i in np.arange(12):\n",
    "            listhere.append(list_of_var_in_arrs[i][var])\n",
    "        var_in_arrs_1[var] =  np.concatenate(listhere,axis=0)"
   ]
  },
  {
   "cell_type": "code",
   "execution_count": 6,
   "id": "48042de3-dd1e-466b-aa30-ce7ac1f24203",
   "metadata": {},
   "outputs": [
    {
     "name": "stdout",
     "output_type": "stream",
     "text": [
      "/g/data/jk72/yx9454/runs/parcels/output_after_Aug/CORE_Curtain_Backwards(out_freq=6hrs)_Jan-Dec_MLS_ON/Month_01_Jan_release_MLS_ON\n",
      "id\n",
      "unbeachCount\n",
      "time\n",
      "1.428316593170166\n",
      "/g/data/jk72/yx9454/runs/parcels/output_after_Aug/CORE_Curtain_Backwards(out_freq=6hrs)_Jan-Dec_MLS_ON/Month_02_Feb_release_MLS_ON\n",
      "id\n",
      "unbeachCount\n",
      "time\n",
      "3.529160499572754\n",
      "/g/data/jk72/yx9454/runs/parcels/output_after_Aug/CORE_Curtain_Backwards(out_freq=6hrs)_Jan-Dec_MLS_ON/Month_03_Mar_release_MLS_ON\n",
      "id\n",
      "unbeachCount\n",
      "time\n",
      "5.520434379577637\n",
      "/g/data/jk72/yx9454/runs/parcels/output_after_Aug/CORE_Curtain_Backwards(out_freq=6hrs)_Jan-Dec_MLS_ON/Month_04_Apr_release_MLS_ON\n",
      "id\n",
      "unbeachCount\n",
      "time\n",
      "7.174632787704468\n",
      "/g/data/jk72/yx9454/runs/parcels/output_after_Aug/CORE_Curtain_Backwards(out_freq=6hrs)_Jan-Dec_MLS_ON/Month_05_May_release_MLS_ON\n",
      "id\n",
      "unbeachCount\n",
      "time\n",
      "8.834099769592285\n",
      "/g/data/jk72/yx9454/runs/parcels/output_after_Aug/CORE_Curtain_Backwards(out_freq=6hrs)_Jan-Dec_MLS_ON/Month_06_Jun_release_MLS_ON\n",
      "id\n",
      "unbeachCount\n",
      "time\n",
      "11.214897632598877\n",
      "/g/data/jk72/yx9454/runs/parcels/output_after_Aug/CORE_Curtain_Backwards(out_freq=6hrs)_Jan-Dec_MLS_ON/Month_07_Jul_release_MLS_ON\n",
      "id\n",
      "unbeachCount\n",
      "time\n",
      "12.731503963470459\n",
      "/g/data/jk72/yx9454/runs/parcels/output_after_Aug/CORE_Curtain_Backwards(out_freq=6hrs)_Jan-Dec_MLS_ON/Month_08_Aug_release_MLS_ON\n",
      "id\n",
      "unbeachCount\n",
      "time\n",
      "17.578219413757324\n",
      "/g/data/jk72/yx9454/runs/parcels/output_after_Aug/CORE_Curtain_Backwards(out_freq=6hrs)_Jan-Dec_MLS_ON/Month_09_Sep_release_MLS_ON\n",
      "id\n",
      "unbeachCount\n",
      "time\n",
      "16.094343662261963\n",
      "/g/data/jk72/yx9454/runs/parcels/output_after_Aug/CORE_Curtain_Backwards(out_freq=6hrs)_Jan-Dec_MLS_ON/Month_10_Oct_release_MLS_ON\n",
      "id\n",
      "unbeachCount\n",
      "time\n",
      "18.418428659439087\n",
      "/g/data/jk72/yx9454/runs/parcels/output_after_Aug/CORE_Curtain_Backwards(out_freq=6hrs)_Jan-Dec_MLS_ON/Month_11_Nov_release_MLS_ON\n",
      "id\n",
      "unbeachCount\n",
      "time\n",
      "25.188024044036865\n",
      "/g/data/jk72/yx9454/runs/parcels/output_after_Aug/CORE_Curtain_Backwards(out_freq=6hrs)_Jan-Dec_MLS_ON/Month_12_Dec_release_MLS_ON\n",
      "id\n",
      "unbeachCount\n",
      "time\n",
      "21.94955825805664\n"
     ]
    }
   ],
   "source": [
    "# Load traj files 2\n",
    "out_freq    = traj_input[exp_name][2]['out_freq']\n",
    "exp_path    = traj_input[exp_name][2]['exp_path']\n",
    "dirs_2 = sorted(glob(master_path+exp_path+'*'))\n",
    "\n",
    "# Files 1 are for 2005.01.01-2006.01.01,\n",
    "# we applied a time selection to make sure no time step beyond is captured.\n",
    "# Time here is in nanoseconds (1000000000 times of seconds) since 1970,1,1\n",
    "time_max =  (dt.datetime(2006,1,1)  - dt.datetime(1970,1,1)).total_seconds()*1000000000\n",
    "time_min =  (dt.datetime(2004,12,31)- dt.datetime(1970,1,1)).total_seconds()*1000000000\n",
    "\n",
    "list_of_var_in_arrs = []\n",
    "for i in dirs_2:\n",
    "    print(i)\n",
    "    files = sorted(glob(i+'/*.nc'))\n",
    "    # Note that 'traj' is continous npts from 0, \n",
    "    # while 'trajectory' is particle id inherits from previous file\n",
    "    t = time.time()\n",
    "    #var_in_arrs = c1d.load_OP_traj_files_file_by_file(files,variables)\n",
    "    var_in_arrs = c1d.load_OP_traj_files_file_by_file_v2(files,variables)\n",
    "    print(time.time()-t)\n",
    "    \n",
    "    obs_mask = (var_in_arrs['time'][0,:]<time_max) & (var_in_arrs['time'][0,:]>time_min)\n",
    "    for v in variables:\n",
    "        if v != 'id':\n",
    "            #print(v)\n",
    "            var_in_arrs[v] = var_in_arrs[v][:,obs_mask]\n",
    "            nan_arr = np.zeros((var_in_arrs[v].shape[0],int(365/out_freq)-var_in_arrs[v].shape[1]))/0\n",
    "            var_in_arrs[v] = np.concatenate((nan_arr,var_in_arrs[v]),axis=1)\n",
    "            #var_in_arrs_forw_1st_year = \n",
    "    list_of_var_in_arrs.append(var_in_arrs)\n",
    "        \n",
    "# Combine each monthly array into one array        \n",
    "var_in_arrs_2 = {}\n",
    "for var in variables:\n",
    "    listhere = []\n",
    "    if var != 'id':\n",
    "        for i in np.arange(12):\n",
    "            listhere.append(list_of_var_in_arrs[i][var])\n",
    "        var_in_arrs_2[var] =  np.concatenate(listhere,axis=0)"
   ]
  },
  {
   "cell_type": "code",
   "execution_count": 7,
   "id": "305c52e5-1377-4d0a-b620-4a8a762cd3bb",
   "metadata": {},
   "outputs": [
    {
     "name": "stdout",
     "output_type": "stream",
     "text": [
      "/g/data/jk72/yx9454/runs/parcels/output_after_Aug/CORE_Curtain_Backwards(out_freq=6hrs)_Following_Loop_MLS_ON/Particles_001.nc\n",
      "/g/data/jk72/yx9454/runs/parcels/output_after_Aug/CORE_Curtain_Backwards(out_freq=6hrs)_Following_Loop_MLS_ON/Particles_227.nc\n",
      "id\n",
      "unbeachCount\n",
      "1466.9299602508545\n"
     ]
    }
   ],
   "source": [
    "var_in_arrs_4={}\n",
    "variables = {'id': 'trajectory', 'unbeachCount': 'unbeachCount'}\n",
    "# Load traj files 4 # Note that No.4 means loop files\n",
    "out_freq    = traj_input[exp_name][4]['out_freq']\n",
    "exp_path    = traj_input[exp_name][4]['exp_path']\n",
    "\n",
    "# Define the input files\n",
    "files = sorted(glob(master_path+exp_path+'*.nc')) \n",
    "files = files[1:]\n",
    "print(files[0])\n",
    "print(files[-1])\n",
    "\n",
    "t = time.time()\n",
    "#var_in_arrs = c1d.load_OP_traj_files_file_by_file(files,variables)\n",
    "var_in_arrs_4 = c1d.load_OP_traj_files_file_by_file_v2(files,variables)\n",
    "print(time.time()-t)\n",
    "\n"
   ]
  },
  {
   "cell_type": "raw",
   "id": "da1ddbc4-324f-4a68-a795-30182a427ad7",
   "metadata": {},
   "source": [
    "np.savez('/g/data/jk72/yx9454/Euphotic_zone_research_trajectory_in_npz/MLS_ON/var_in_arrs_unbeachCount.npz',\n",
    "        var_in_arrs_0=var_in_arrs_0['unbeachCount'],\n",
    "        var_in_arrs_1=var_in_arrs_1['unbeachCount'],\n",
    "        var_in_arrs_2=var_in_arrs_2['unbeachCount'],\n",
    "        var_in_arrs_4=var_in_arrs_4['unbeachCount'],)"
   ]
  },
  {
   "cell_type": "raw",
   "id": "3aeb1030-ac90-4f33-a0c7-e172d868d312",
   "metadata": {},
   "source": [
    "unbeachCount  = np.load(\"/g/data/jk72/yx9454/Euphotic_zone_research_trajectory_in_npz/MLS_ON/var_in_arrs_unbeachCount.npz\")\n",
    "#\n",
    "var_in_arrs_0_UB = unbeachCount['var_in_arrs_0'][:,-1]\n",
    "print('CP0')\n",
    "var_in_arrs_1_UB = unbeachCount['var_in_arrs_1'][:,-1]\n",
    "print('CP1')\n",
    "var_in_arrs_2_UB = unbeachCount['var_in_arrs_2'][:,-1]\n",
    "print('CP2')\n",
    "var_in_arrs_4_UB = unbeachCount['var_in_arrs_4'][:,-1]\n",
    "print('CP4')"
   ]
  },
  {
   "cell_type": "raw",
   "id": "79d29b9b-b24a-4e88-a1be-e1477ce3cccd",
   "metadata": {},
   "source": [
    "np.savez('/g/data/jk72/yx9454/Euphotic_zone_research_trajectory_in_npz/MLS_ON/var_in_arrs_unbeachCount_ONE_TimeSnapshot.npz',\n",
    "        var_in_arrs_0=var_in_arrs_0_UB,\n",
    "        var_in_arrs_1=var_in_arrs_1_UB,\n",
    "        var_in_arrs_2=var_in_arrs_2_UB,\n",
    "        var_in_arrs_4=var_in_arrs_4_UB)"
   ]
  },
  {
   "cell_type": "markdown",
   "id": "e5a3f18e-41fe-4ae6-8076-c7d40d0c6453",
   "metadata": {},
   "source": [
    "# Load unbeachCount files"
   ]
  },
  {
   "cell_type": "code",
   "execution_count": 4,
   "id": "1800eb0e-3d75-4d1e-aef2-294ad2789d99",
   "metadata": {},
   "outputs": [
    {
     "name": "stdout",
     "output_type": "stream",
     "text": [
      "CP0\n",
      "CP1\n",
      "CP2\n",
      "CP4\n"
     ]
    }
   ],
   "source": [
    "unbeachCount  = np.load(\"/g/data/jk72/yx9454/Euphotic_zone_research_trajectory_in_npz/MLS_ON/var_in_arrs_unbeachCount.npz\")\n",
    "#\n",
    "var_in_arrs_0_UB = unbeachCount['var_in_arrs_0'][:,-1]\n",
    "print('CP0')\n",
    "var_in_arrs_1_UB = unbeachCount['var_in_arrs_1'][:,-1]\n",
    "print('CP1')\n",
    "var_in_arrs_2_UB = unbeachCount['var_in_arrs_2'][:,-1]\n",
    "print('CP2')\n",
    "var_in_arrs_4_UB = unbeachCount['var_in_arrs_4'][:,-1]\n",
    "print('CP4')"
   ]
  },
  {
   "cell_type": "markdown",
   "id": "27f00d44-c2bd-4643-b9bc-a982521c613e",
   "metadata": {},
   "source": [
    "### Load AABW indices"
   ]
  },
  {
   "cell_type": "code",
   "execution_count": 8,
   "id": "b362c72b-9757-47d4-91bb-dc6d0df2b6a5",
   "metadata": {},
   "outputs": [],
   "source": [
    "AABW_inds = np.load('/g/data/jk72/yx9454/PAR_from_iaf_cycle4/'+exp_name+'/AABW_inds.npz')['AABW_inds']\n"
   ]
  },
  {
   "cell_type": "code",
   "execution_count": 55,
   "id": "c22d1494-0247-4cb6-97ed-7185ae5e0675",
   "metadata": {},
   "outputs": [
    {
     "name": "stdout",
     "output_type": "stream",
     "text": [
      "#--------------- chunk 1 start ---------------# \n",
      "Unbeached particle in all particles\n",
      "557072   59.67537364596188 %\n",
      "Unbeached particle in AABW particles\n",
      "71801   7.691557829425476 %\n",
      "#--------------- chunk 1 finished ---------------# \n",
      "#--------------- chunk 1 start ---------------# \n",
      "Unbeached particle in all particles\n",
      "114372   12.25190250925545 %\n",
      "Unbeached particle in AABW particles\n",
      "21249   2.2762623406005758 %\n",
      "#--------------- chunk 1 finished ---------------# \n",
      "#--------------- chunk 1 start ---------------# \n",
      "Unbeached particle in all particles\n",
      "142288   15.242355683532153 %\n",
      "Unbeached particle in AABW particles\n",
      "15997   1.7136509324009324 %\n",
      "#--------------- chunk 1 finished ---------------# \n",
      "#--------------- chunk 1 start ---------------# \n",
      "Unbeached particle in all particles\n",
      "574692   61.562885643768 %\n",
      "Unbeached particle in AABW particles\n",
      "58778   6.296491498697381 %\n",
      "#--------------- chunk 1 finished ---------------# \n",
      "#--------------- chunk 2 start ---------------# \n",
      "763073   81.74287416015358 %\n"
     ]
    }
   ],
   "source": [
    "del unbeachCount\n",
    "for unbeachCount in [var_in_arrs_0_UB,var_in_arrs_1_UB,var_in_arrs_2_UB,var_in_arrs_4_UB]:\n",
    "    print('#--------------- chunk 1 start ---------------# ')\n",
    "    print('Unbeached particle in all particles')\n",
    "    num = np.nansum(unbeachCount > 0)\n",
    "    print(num,' ',100*num/AABW_inds.shape[0],'%')\n",
    "    print('Unbeached particle in AABW particles')\n",
    "    if unbeachCount.shape[0] != 933504:\n",
    "        # This is because we found var_in_arrs_4_UB length is less than AABW_inds, which is because\n",
    "        # no 933504 particle is missing in var_in_arrs_4_UB\n",
    "        num = np.nansum(unbeachCount[AABW_inds[:-1]] > 0)\n",
    "    else:\n",
    "        num = np.nansum(unbeachCount[AABW_inds] > 0)\n",
    "    print(num,' ',100*num/AABW_inds.shape[0],'%')\n",
    "    print('#--------------- chunk 1 finished ---------------# ')\n",
    "\n",
    "print('#--------------- chunk 2 start ---------------# ')\n",
    "\n",
    "int_unbeachCount = ((var_in_arrs_0_UB[:-1]) +\n",
    "                    (var_in_arrs_1_UB[:-1]) +\n",
    "                    (var_in_arrs_2_UB[:-1]) +\n",
    "                    (var_in_arrs_4_UB) )\n",
    "\n",
    "num = np.nansum(int_unbeachCount>0)\n",
    "print(num,' ',100*num/AABW_inds.shape[0],'%')"
   ]
  },
  {
   "cell_type": "code",
   "execution_count": 62,
   "id": "6a58e5ee-dad2-4fa4-a56c-a6bbc1ba9847",
   "metadata": {},
   "outputs": [
    {
     "name": "stdout",
     "output_type": "stream",
     "text": [
      "83334\n",
      "Precentage:  88.53733943881942 %\n",
      "43305\n",
      "Precentage:  46.008945741210965 %\n",
      "33000\n",
      "Precentage:  35.06050593372502 %\n",
      "8766\n",
      "Precentage:  9.313345303485864 %\n",
      "3132\n",
      "Precentage:  3.327560744982629 %\n"
     ]
    }
   ],
   "source": [
    "for thre in [0,7,10,100,496]:\n",
    "    num = np.nansum(int_unbeachCount[AABW_inds[:-1]]>thre)\n",
    "    print(num)\n",
    "    print('Precentage: ',100*num/sum(AABW_inds),'%')"
   ]
  },
  {
   "cell_type": "code",
   "execution_count": 61,
   "id": "c978b180-de21-4aea-8fb7-d1a4f21fc37f",
   "metadata": {},
   "outputs": [
    {
     "name": "stdout",
     "output_type": "stream",
     "text": [
      "763073\n",
      "Precentage:  81.74287416015358 %\n",
      "366369\n",
      "Precentage:  39.24664489921843 %\n",
      "287312\n",
      "Precentage:  30.777800630741808 %\n",
      "85455\n",
      "Precentage:  9.154218942821885 %\n",
      "33907\n",
      "Precentage:  3.6322286781845605 %\n"
     ]
    }
   ],
   "source": [
    "for thre in [0,7,10,100,496]:\n",
    "    num = np.nansum(int_unbeachCount>thre)\n",
    "    print(num)\n",
    "    print('Precentage: ',100*num/AABW_inds.shape[0],'%')"
   ]
  }
 ],
 "metadata": {
  "kernelspec": {
   "display_name": "Python [conda env:analysis3-22.07]",
   "language": "python",
   "name": "conda-env-analysis3-22.07-py"
  },
  "language_info": {
   "codemirror_mode": {
    "name": "ipython",
    "version": 3
   },
   "file_extension": ".py",
   "mimetype": "text/x-python",
   "name": "python",
   "nbconvert_exporter": "python",
   "pygments_lexer": "ipython3",
   "version": "3.9.15"
  }
 },
 "nbformat": 4,
 "nbformat_minor": 5
}
