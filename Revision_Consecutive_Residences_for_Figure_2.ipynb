{
 "cells": [
  {
   "cell_type": "markdown",
   "id": "21c76c42-ecf2-41f3-95c8-b948a08ef49c",
   "metadata": {},
   "source": [
    "## \"Euphotic zone residence time of Antarctic Bottom Water\"\n",
    "\n",
    "### Code for Figure 2 (b) Heatmap\n",
    "Figure 2. (b) Heatmap shows where residence time predominantly occurs. It only shows euphotic zone residence location of particles that remained in the surface for ≥4 weeks. \n",
    "\n",
    "Figure 1. Probability density (%) maps of particles that spend time in the euphotic zone.\n",
    "\n",
    "One unadopted plot for the time series of how many days particles identified as AABW were in the consecutive euphotic zone residence in every month is also attached.\n",
    "\n",
    "Corresponding to Yinghuan Xie (yinghuan.xie@utas.edu.au)\n",
    "\n",
    "Note: Usually it needs large RAM node to run this script (e.g., 256GB RAM)"
   ]
  },
  {
   "cell_type": "code",
   "execution_count": 1,
   "id": "40b40651-e612-40a0-99ad-1da4605f19ce",
   "metadata": {
    "tags": []
   },
   "outputs": [],
   "source": [
    "# Importing the relevant modules. \n",
    "import numpy as np\n",
    "import xarray as xr\n",
    "import math\n",
    "import time\n",
    "import datetime as dt\n",
    "from datetime import timedelta\n",
    "import calendar\n",
    "import os\n",
    "import re\n",
    "from glob import glob\n",
    "#\n",
    "import netCDF4 as nc\n",
    "import pandas as pd\n",
    "import gsw\n",
    "#\n",
    "import cartopy.crs as ccrs\n",
    "from scipy.io import loadmat\n",
    "#\n",
    "import matplotlib.pyplot as plt\n",
    "import matplotlib.colors as col\n",
    "#\n",
    "import cosima_cookbook as cc\n",
    "session =cc.database.create_session()\n",
    "expt = '01deg_jra55v13_ryf9091'\n",
    "#\n",
    "from os import sys\n",
    "sys.path.append('/home/581/yx9454/PhD_Ch1')\n",
    "from My_Py_Func import Ch1_defs as c1d"
   ]
  },
  {
   "cell_type": "code",
   "execution_count": 14,
   "id": "dca3a3a5-ad6a-49c3-9169-4978fa037f4e",
   "metadata": {},
   "outputs": [],
   "source": [
    "# Define the threshld for euphotic zone PAR in (watts per square metres)\n",
    "# 2  mol/m^2/day: 5.439369304008213\n",
    "# 3  mol/m^2/day: 8.15905395601232\n",
    "# 4  mol/m^2/day: 10.878738608016427\n",
    "PARZ_thre = 8.159\n",
    "PARZ_thre_L = 5.439\n",
    "PARZ_thre_U = 10.879"
   ]
  },
  {
   "cell_type": "code",
   "execution_count": 2,
   "id": "f224e02e-94b0-406d-8586-fd9481c6be00",
   "metadata": {},
   "outputs": [],
   "source": [
    "# Importing the relevant modules. \n",
    "import numpy as np\n",
    "import xarray as xr\n",
    "import os\n",
    "import re\n",
    "from glob import glob\n",
    "import netCDF4 as nc\n",
    "import cartopy.crs as ccrs\n",
    "import matplotlib.pyplot as plt\n",
    "import matplotlib.ticker as ticker\n",
    "import cosima_cookbook as cc\n",
    "session =cc.database.create_session()\n",
    "expt = '01deg_jra55v13_ryf9091'\n",
    "from os import sys\n",
    "sys.path.append('/home/581/yx9454/PhD_Ch1')\n",
    "from My_Py_Func import Ch1_defs as c1d\n",
    "#\n",
    "import time\n",
    "import datetime as dt\n",
    "from datetime import timedelta"
   ]
  },
  {
   "cell_type": "code",
   "execution_count": 3,
   "id": "eea7da9d-3b2a-46a4-9c08-d7251717e2dc",
   "metadata": {},
   "outputs": [
    {
     "name": "stdout",
     "output_type": "stream",
     "text": [
      "CPU times: user 55.9 s, sys: 51.4 s, total: 1min 47s\n",
      "Wall time: 1min 50s\n"
     ]
    }
   ],
   "source": [
    "%%time\n",
    "exp_name = 'MLS_ON'\n",
    "#\n",
    "var_in_arrs_0,var_in_arrs_1,var_in_arrs_2,var_in_arrs_3,var_in_arrs_4 = {},{},{},{},{}\n",
    "\n",
    "# Load traj files 0\n",
    "# From 5days freq npz file\n",
    "npzfile = np.load('/g/data/jk72/yx9454/PAR_from_iaf_cycle4/'+exp_name+'/Chl-a_based_on_OCCCI_v6/var_in_arrs_0_AABW_only_PARS_Z.npz')\n",
    "var_in_arrs_0['PARZ']   =npzfile['PARZ']\n",
    "#var_in_arrs_0['Pt_ind']   =npzfile['Pt_ind']\n",
    "\n",
    "# Load traj files 1\n",
    "# From 5days freq npz file\n",
    "npzfile = np.load('/g/data/jk72/yx9454/PAR_from_iaf_cycle4/'+exp_name+'/Chl-a_based_on_OCCCI_v6/var_in_arrs_1_AABW_only_PARS_Z.npz')\n",
    "var_in_arrs_1['PARZ']   =npzfile['PARZ']\n",
    "#var_in_arrs_1['Pt_ind']   =npzfile['Pt_ind']\n",
    "\n",
    "# Load traj files 2\n",
    "# From 5days freq npz file\n",
    "npzfile = np.load('/g/data/jk72/yx9454/PAR_from_iaf_cycle4/'+exp_name+'/Chl-a_based_on_OCCCI_v6/var_in_arrs_2_AABW_only_PARS_Z.npz')\n",
    "var_in_arrs_2['PARZ']   =npzfile['PARZ']\n",
    "#var_in_arrs_2['Pt_ind']   =npzfile['Pt_ind']\n",
    "\n",
    "# Manually reset\n",
    "#traj_input[exp_name][3]['out_freq'] = 5\n",
    "\n",
    "# Load traj files 3\n",
    "# From 5days freq npz file\n",
    "npzfile = np.load('/g/data/jk72/yx9454/PAR_from_iaf_cycle4/'+exp_name+'/Chl-a_based_on_OCCCI_v6/var_in_arrs_3_AABW_only_PARS_Z.npz')\n",
    "var_in_arrs_3['PARZ']   =npzfile['PARZ']\n",
    "#var_in_arrs_3['Pt_ind']   =npzfile['Pt_ind']\n",
    "\n",
    "# Manually reset\n",
    "#traj_input[exp_name][2]['out_freq'] = 5\n",
    "\n",
    "# Load traj files 4\n",
    "# From 5days freq npz file\n",
    "npzfile = np.load('/g/data/jk72/yx9454/PAR_from_iaf_cycle4/'+exp_name+'/Chl-a_based_on_OCCCI_v6/var_in_arrs_4_AABW_only_PARS_Z.npz')\n",
    "var_in_arrs_4['PARZ']   =npzfile['PARZ']\n",
    "#var_in_arrs_4['Pt_ind']   =npzfile['Pt_ind']\n",
    "\n"
   ]
  },
  {
   "cell_type": "code",
   "execution_count": 4,
   "id": "e6c12a30-d6be-4886-9ab4-f72496eaba47",
   "metadata": {
    "tags": []
   },
   "outputs": [
    {
     "name": "stdout",
     "output_type": "stream",
     "text": [
      "CPU times: user 12.4 ms, sys: 12.9 ms, total: 25.3 ms\n",
      "Wall time: 246 ms\n"
     ]
    }
   ],
   "source": [
    "%%time\n",
    "\n",
    "# Load traj files 0\n",
    "# From 5days freq npz file\n",
    "npzfile = np.load('/g/data/jk72/yx9454/Euphotic_zone_research_trajectory_in_npz/'+exp_name+'/var_in_arrs_0_datetime.npz',allow_pickle=True)\n",
    "var_in_arrs_0['datetime']   =npzfile['datetime']\n",
    "#var_in_arrs_0['Pt_ind']   =npzfile['Pt_ind']\n",
    "\n",
    "# Load traj files 1\n",
    "# From 5days freq npz file\n",
    "npzfile = np.load('/g/data/jk72/yx9454/Euphotic_zone_research_trajectory_in_npz/'+exp_name+'/var_in_arrs_1_datetime.npz',allow_pickle=True)\n",
    "var_in_arrs_1['datetime']   =npzfile['datetime']\n",
    "#var_in_arrs_1['Pt_ind']   =npzfile['Pt_ind']\n",
    "\n",
    "# Load traj files 2\n",
    "# From 5days freq npz file\n",
    "npzfile = np.load('/g/data/jk72/yx9454/Euphotic_zone_research_trajectory_in_npz/'+exp_name+'/var_in_arrs_2_datetime.npz',allow_pickle=True)\n",
    "var_in_arrs_2['datetime']   =npzfile['datetime']\n",
    "#var_in_arrs_2['Pt_ind']   =npzfile['Pt_ind']\n",
    "\n",
    "# Manually reset\n",
    "#traj_input[exp_name][3]['out_freq'] = 5\n",
    "\n",
    "# Load traj files 3\n",
    "# From 5days freq npz file\n",
    "npzfile = np.load('/g/data/jk72/yx9454/Euphotic_zone_research_trajectory_in_npz/'+exp_name+'/var_in_arrs_3_datetime.npz',allow_pickle=True)\n",
    "var_in_arrs_3['datetime']   =npzfile['datetime']\n",
    "#var_in_arrs_3['Pt_ind']   =npzfile['Pt_ind']\n",
    "\n",
    "# Manually reset\n",
    "#traj_input[exp_name][2]['out_freq'] = 5\n",
    "\n",
    "# Load traj files 4\n",
    "# From 5days freq npz file\n",
    "npzfile = np.load('/g/data/jk72/yx9454/Euphotic_zone_research_trajectory_in_npz/'+exp_name+'/var_in_arrs_4_datetime.npz',allow_pickle=True)\n",
    "var_in_arrs_4['datetime']   =npzfile['datetime']\n",
    "#var_in_arrs_4['Pt_ind']   =npzfile['Pt_ind']\n",
    "\n"
   ]
  },
  {
   "cell_type": "markdown",
   "id": "24ff51b0-24ae-4bb4-8fde-aa60d3e4c4c8",
   "metadata": {},
   "source": [
    "# Load mask arrays to identify particles satisfying CDW definitions\n",
    "Note that AABW definition is implicit as 'PARS' and 'PARZ' datasets are only stored for AABW particles"
   ]
  },
  {
   "cell_type": "code",
   "execution_count": 9,
   "id": "d032a9bd-4161-4759-9aed-21ee4692002c",
   "metadata": {
    "tags": []
   },
   "outputs": [],
   "source": [
    "# Get AABW_inds\n",
    "#AABW_inds = np.load('/g/data/jk72/yx9454/PAR_from_iaf_cycle4/'+exp_name+'/AABW_inds.npz')['AABW_inds']\n",
    "\n",
    "# Get CDW_inds\n",
    "stopsign_list = np.load('/g/data/jk72/yx9454/PAR_from_iaf_cycle4/'+exp_name+'/stopsign_list_for_20yrs_150m_thre.npz')['stopsign_list']\n",
    "CDW_inds = ~(np.isnan(stopsign_list))\n",
    "CDW_inds_in_no = np.arange(94123)[CDW_inds].tolist()"
   ]
  },
  {
   "cell_type": "markdown",
   "id": "cfa8a4e6-ab3a-4a1c-b3ec-5a42209fa841",
   "metadata": {
    "tags": []
   },
   "source": [
    "# Calculate the PARZ chunk for longer than 28 days euphotic zone residence intervals, duration is also recorded"
   ]
  },
  {
   "cell_type": "markdown",
   "id": "eb636318-f309-46e4-bb36-eaf1cebfdbc4",
   "metadata": {},
   "source": [
    "### Get the new new_var_in_arrs_1_PARZ and new_var_in_arrs_0_PARZ which length is 20 times than before.\n",
    "This makes var_in_arrs_1_PARZ be comparable with var_in_arrs_2 and var_in_arrs_3"
   ]
  },
  {
   "cell_type": "code",
   "execution_count": 10,
   "id": "7c1bbcb3-aef9-4635-a00e-2f1cdd8ac317",
   "metadata": {
    "tags": []
   },
   "outputs": [],
   "source": [
    "# original two-dimensional array\n",
    "original_array = var_in_arrs_1['PARZ']\n",
    "# Copy each column 4 times\n",
    "repeated_array = np.repeat(original_array, 20, axis=1)\n",
    "# Form a new four-length two-dimensional array\n",
    "new_var_in_arrs_1_PARZ = np.reshape(repeated_array, (original_array.shape[0], -1))\n"
   ]
  },
  {
   "cell_type": "code",
   "execution_count": 11,
   "id": "93389793-9308-4aed-b2ea-4f2bb0dd2c05",
   "metadata": {
    "tags": []
   },
   "outputs": [],
   "source": [
    "# original two-dimensional array\n",
    "original_array = var_in_arrs_0['PARZ']\n",
    "# Copy each column 4 times\n",
    "repeated_array = np.repeat(original_array, 20, axis=1)\n",
    "# Form a new four-length two-dimensional array\n",
    "new_var_in_arrs_0_PARZ = np.reshape(repeated_array, (original_array.shape[0], -1))\n"
   ]
  },
  {
   "cell_type": "markdown",
   "id": "2cfd38dd-d2e7-43c6-a365-32d866aab7e9",
   "metadata": {},
   "source": [
    "### Get the approx Time index for var_in_arrs_3"
   ]
  },
  {
   "cell_type": "raw",
   "id": "6635cbbc-768e-408e-9989-db97a25f50a0",
   "metadata": {
    "tags": []
   },
   "source": [
    "# original two-dimensional array\n",
    "original_array = var_in_arrs_3['datetime']\n",
    "# Copy each column 4 times\n",
    "repeated_array = np.repeat(original_array, 20, axis=0)\n",
    "# Form a new four-length two-dimensional array\n",
    "var_in_arrs_3['datetime_approx'] = repeated_array[:var_in_arrs_3['PARZ'].shape[1]]"
   ]
  },
  {
   "cell_type": "markdown",
   "id": "cc09e641-fa80-4149-b0f5-47adaec1d318",
   "metadata": {
    "tags": []
   },
   "source": [
    "### Marriage var_in_arrs_3 and var_in_arrs_2/var_in_arrs_1"
   ]
  },
  {
   "cell_type": "code",
   "execution_count": 12,
   "id": "1d62fde6-814f-43c7-a2da-c75cda8b4a2e",
   "metadata": {
    "tags": []
   },
   "outputs": [
    {
     "data": {
      "text/plain": [
       "(94123, 73962)"
      ]
     },
     "execution_count": 12,
     "metadata": {},
     "output_type": "execute_result"
    }
   ],
   "source": [
    "var_in_arrs_1_2_PARZ = np.copy(var_in_arrs_2['PARZ'][:,::-1])\n",
    "\n",
    "var_in_arrs_1_2_PARZ[np.isnan(var_in_arrs_1_2_PARZ)] = new_var_in_arrs_1_PARZ[np.isnan(var_in_arrs_1_2_PARZ)]\n",
    "\n",
    "#ind_here = np.argwhere(var_in_arrs_3['datetime_approx']>dt.datetime(1994,12,31)).max()\n",
    "PARZ = np.concatenate(\n",
    "                        (var_in_arrs_4['PARZ'][:,:][:,::-1],\n",
    "                         var_in_arrs_3['PARZ'][:,:][:,::-1], #var_in_arrs_3['PARZ'][:,:ind_here][:,::-1],\n",
    "                       var_in_arrs_1_2_PARZ,\n",
    "                        new_var_in_arrs_0_PARZ),\n",
    "                     axis=1)\n",
    "PARZ.shape"
   ]
  },
  {
   "cell_type": "markdown",
   "id": "7bcd51ad-c119-4524-b9d7-0027d3b1319c",
   "metadata": {},
   "source": [
    "## Calculate the start and end points of >0.443 W/m^2 intervals"
   ]
  },
  {
   "cell_type": "code",
   "execution_count": 16,
   "id": "45e34322-e809-4d1e-9882-95a5e0c4f6e5",
   "metadata": {
    "tags": []
   },
   "outputs": [],
   "source": [
    "%%time\n",
    "starts = np.argwhere(np.diff((PARZ>PARZ_thre)*1,axis=1)==1)\n",
    "starts[:,-1] +=1\n",
    "ends   = np.argwhere(np.diff((PARZ>PARZ_thre)*1,axis=1)==-1)"
   ]
  },
  {
   "cell_type": "markdown",
   "id": "ab824523-ca1b-40aa-84c5-e8d012de664a",
   "metadata": {},
   "source": [
    "### Trim off incomplete intervals and make the final stards and ends record"
   ]
  },
  {
   "cell_type": "code",
   "execution_count": 17,
   "id": "f77b683a-4b4f-4437-aeee-c85c0b943421",
   "metadata": {
    "tags": []
   },
   "outputs": [
    {
     "name": "stdout",
     "output_type": "stream",
     "text": [
      "done\n",
      "done\n",
      "done\n",
      "done\n",
      "done\n",
      "Loop1\n",
      "done\n",
      "CPU times: user 7min 6s, sys: 114 ms, total: 7min 7s\n",
      "Wall time: 7min 6s\n"
     ]
    }
   ],
   "source": [
    "%%time\n",
    "new_starts = []\n",
    "new_ends = []\n",
    "durations = []\n",
    "inds = []\n",
    "for i in np.unique(np.unique(starts[:,0]).tolist()+np.unique(ends[:,0]).tolist()):\n",
    "    #print(i)\n",
    "    #print(starts[starts[:,0]==i][:,1])\n",
    "    #print(ends[ends[:,0]==i][:,1])\n",
    "    \n",
    "    if ((len(starts[starts[:,0]==i])>0) & (len(ends[ends[:,0]==i])>0)):\n",
    "        if starts[starts[:,0]==i][0,1]>ends[ends[:,0]==i][0,1]:\n",
    "            ends[np.argwhere(ends[:,0]==i).min(),0]= -9999\n",
    "            print('done')\n",
    "        if len(starts[starts[:,0]==i][:,1])>len(ends[ends[:,0]==i][:,1]):\n",
    "            print('Loop1')\n",
    "            new_starts.append(starts[starts[:,0]==i][:-1,1])\n",
    "            new_ends.append(ends[ends[:,0]==i][:,1])\n",
    "        elif len(starts[starts[:,0]==i][:,1])< len(ends[ends[:,0]==i][:,1]):\n",
    "            print('ERROR')\n",
    "        else:\n",
    "            new_starts.append(starts[starts[:,0]==i][:,1])\n",
    "            new_ends.append(ends[ends[:,0]==i][:,1])\n",
    "        #print(new_starts[-1])\n",
    "        #print(new_ends[-1])\n",
    "        durations.append(new_ends[-1] - new_starts[-1])\n",
    "        #print(durations[-1])\n",
    "        inds.append(i)\n",
    "    else:\n",
    "        print(i,'ERROR: only have one valid starts or ends')"
   ]
  },
  {
   "cell_type": "markdown",
   "id": "6b47dab6-fc35-4f4a-9d06-a08384c20f05",
   "metadata": {},
   "source": [
    "### Report number of particles satisfying assigned consecutive residence time threshold"
   ]
  },
  {
   "cell_type": "code",
   "execution_count": 18,
   "id": "fe4ec777-ae9d-4b1b-aa51-5df532d0a668",
   "metadata": {},
   "outputs": [
    {
     "name": "stdout",
     "output_type": "stream",
     "text": [
      "AABW+CDW pts: 88809 AABW pts: 94123\n",
      "Consecutive days:  0\n",
      "(AABW: satisfied  30950  , in precentage:  32.88250480753907 )\n",
      "AABW+CDW: satisfied  26733  , in precentage:  30.101678883896902\n",
      "Consecutive days:  7\n",
      "(AABW: satisfied  19012  , in precentage:  20.199101176120607 )\n",
      "AABW+CDW: satisfied  16042  , in precentage:  18.063484556745376\n",
      "Consecutive days:  14\n",
      "(AABW: satisfied  11915  , in precentage:  12.65896752122223 )\n",
      "AABW+CDW: satisfied  9942  , in precentage:  11.194811336688849\n",
      "Consecutive days:  21\n",
      "(AABW: satisfied  7205  , in precentage:  7.654877128863296 )\n",
      "AABW+CDW: satisfied  6016  , in precentage:  6.774088211780337\n",
      "Consecutive days:  28\n",
      "(AABW: satisfied  4386  , in precentage:  4.65985997046418 )\n",
      "AABW+CDW: satisfied  3670  , in precentage:  4.132464052066795\n",
      "Consecutive days:  56\n",
      "(AABW: satisfied  527  , in precentage:  0.559905655365851 )\n",
      "AABW+CDW: satisfied  453  , in precentage:  0.5100834374894436\n",
      "Consecutive days:  112\n",
      "(AABW: satisfied  7  , in precentage:  0.007437077016244701 )\n",
      "AABW+CDW: satisfied  6  , in precentage:  0.00675607201972773\n",
      "CPU times: user 3.2 s, sys: 65.6 ms, total: 3.26 s\n",
      "Wall time: 3.3 s\n"
     ]
    }
   ],
   "source": [
    "%%time\n",
    "print('AABW+CDW pts:',sum(CDW_inds),'AABW pts:',PARZ.shape[0])\n",
    "for Threshold in [0,7,14,21,28,56,112]: # in days here\n",
    "    # Calculate\n",
    "    time_thre = Threshold*4 # each datapoint means 025 days\n",
    "    #\n",
    "    new_starts_greater_than_thre= []\n",
    "    new_ends_greater_than_thre  = []\n",
    "    durations_greater_than_thre = []\n",
    "    inds_greater_than_thre      = []\n",
    "    \n",
    "    for i in np.arange(len(durations)):\n",
    "        if np.any(durations[i] >= time_thre):\n",
    "            new_starts_greater_than_thre.append(new_starts[i][durations[i]>=time_thre])\n",
    "            new_ends_greater_than_thre.append(new_ends[i][durations[i]>=time_thre])\n",
    "            durations_greater_than_thre.append(durations[i][durations[i]>=time_thre])\n",
    "            inds_greater_than_thre.append(inds[i])       \n",
    "            \n",
    "    # Report\n",
    "    len(inds_greater_than_thre)\n",
    "    intersection = list(set(inds_greater_than_thre) & set(CDW_inds_in_no))\n",
    "    len(intersection)\n",
    "    print('Consecutive days: ',Threshold)\n",
    "    print('(AABW: satisfied ',len(inds_greater_than_thre),' , in precentage: ',100*len(inds_greater_than_thre)/PARZ.shape[0],')')\n",
    "    print('AABW+CDW: satisfied ',len(intersection),' , in precentage: ',100*len(intersection)/sum(CDW_inds))"
   ]
  }
 ],
 "metadata": {
  "kernelspec": {
   "display_name": "Python [conda env:analysis3-22.07]",
   "language": "python",
   "name": "conda-env-analysis3-22.07-py"
  },
  "language_info": {
   "codemirror_mode": {
    "name": "ipython",
    "version": 3
   },
   "file_extension": ".py",
   "mimetype": "text/x-python",
   "name": "python",
   "nbconvert_exporter": "python",
   "pygments_lexer": "ipython3",
   "version": "3.9.15"
  }
 },
 "nbformat": 4,
 "nbformat_minor": 5
}
