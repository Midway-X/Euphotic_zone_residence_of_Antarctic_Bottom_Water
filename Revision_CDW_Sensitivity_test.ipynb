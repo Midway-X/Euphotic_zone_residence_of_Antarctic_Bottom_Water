{
 "cells": [
  {
   "cell_type": "markdown",
   "id": "81795a7b-f87d-4c71-b3be-460b4b9c5a36",
   "metadata": {},
   "source": [
    "# \"Euphotic zone residence time of Antarctic Bottom Water\"\n",
    "\n",
    "### Code for Analyzing the Sensitivity of different CDW depth thresholds (cut-off depths) \n",
    "\n",
    "Corresponding to Yinghuan Xie (yinghuan.xie@utas.edu.au)"
   ]
  },
  {
   "cell_type": "code",
   "execution_count": 1,
   "id": "9cb2125f-8152-4fa5-9474-95b4ccf2ef9b",
   "metadata": {},
   "outputs": [],
   "source": [
    "# Importing the relevant modules. \n",
    "import numpy as np\n",
    "import xarray as xr\n",
    "import math\n",
    "import time\n",
    "import datetime as dt\n",
    "from datetime import timedelta\n",
    "import calendar\n",
    "import os\n",
    "import re\n",
    "from glob import glob\n",
    "#\n",
    "import netCDF4 as nc\n",
    "import pandas as pd\n",
    "import gsw\n",
    "#\n",
    "import cartopy.crs as ccrs\n",
    "from scipy.io import loadmat\n",
    "#\n",
    "import matplotlib.pyplot as plt\n",
    "import matplotlib.colors as col\n",
    "#\n",
    "import cosima_cookbook as cc\n",
    "session =cc.database.create_session()\n",
    "expt = '01deg_jra55v13_ryf9091'\n",
    "#\n",
    "from os import sys\n",
    "sys.path.append('/home/581/yx9454/PhD_Ch1')\n",
    "from My_Py_Func import Ch1_defs as c1d"
   ]
  },
  {
   "cell_type": "code",
   "execution_count": 7,
   "id": "596a15fa-4113-4bb5-8dab-284c55cc330e",
   "metadata": {},
   "outputs": [],
   "source": [
    "# In each experiment, we define 06-18, release-06, 05-release, 87-05,\n",
    "# loop_start_point-87 (if availiable) as No 0,1,2,3,4(if availiable)\n",
    "\n",
    "master_path = '/g/data/jk72/yx9454/runs/parcels/output_after_Aug/'\n",
    "traj_input = {'MLS_ON':[{'out_freq': 5,\n",
    "                        'exp_path':'CORE_Curtain_Forward(out_freq=5days)_Following_MLS_ON/'},\n",
    "                        {'out_freq': 5,\n",
    "                        'exp_path':'CORE_Curtain_Forward(out_freq=5days)_Jan-Dec_MLS_ON/'},\n",
    "                        {'out_freq': 0.25,\n",
    "                        'exp_path':'CORE_Curtain_Backwards(out_freq=6hrs)_Jan-Dec_MLS_ON/'},\n",
    "                        {'out_freq': 5, # Here we only load 5days frequency \n",
    "                        'exp_path':'CORE_Curtain_Backwards(out_freq=6hrs)_Following_MLS_ON/'},\n",
    "                        {'out_freq': 5, # Here we only load 5days frequency \n",
    "                        'exp_path':'CORE_Curtain_Backwards(out_freq=6hrs)_Following_Loop_MLS_ON/'}],\n",
    "        }"
   ]
  },
  {
   "cell_type": "code",
   "execution_count": 3,
   "id": "2c7b0a64-c965-4acb-96a8-0195db42993b",
   "metadata": {},
   "outputs": [],
   "source": [
    "## This chunk is for loading the traj files\n",
    "exp_name = 'MLS_ON'\n",
    "variables = {'id':'trajectory',  'x': 'lon'   ,'y': 'lat'  ,'z': 'z', 'time':'time',\n",
    "             #'T': 'temperature','S': 'salinity',\n",
    "             #'ML': 'mixedlayershuffle', 'MLD':'mldepth',\n",
    "             #'rel_id':'rel_id','rel_z':'rel_z','rel_m':'rel_m',\n",
    "            }"
   ]
  },
  {
   "cell_type": "code",
   "execution_count": 4,
   "id": "f4a9fe84-1c1c-4c90-9342-744f4e0623c2",
   "metadata": {},
   "outputs": [
    {
     "name": "stdout",
     "output_type": "stream",
     "text": [
      "0.08801031112670898\n",
      "0.08816242218017578\n",
      "16.42868709564209\n",
      "31.77424454689026\n"
     ]
    },
    {
     "data": {
      "text/plain": [
       "22"
      ]
     },
     "execution_count": 4,
     "metadata": {},
     "output_type": "execute_result"
    }
   ],
   "source": [
    "t = time.time()\n",
    "var_in_arrs_3 = {}\n",
    "npzfile = np.load('/g/data/jk72/yx9454/Euphotic_zone_research_trajectory_in_npz/'+exp_name+'/var_in_arrs_3_5days_freq.npz')\n",
    "#var_in_arrs_3['x'] = npzfile['x']\n",
    "print(time.time()-t)\n",
    "#var_in_arrs_3['y'] = npzfile['y']\n",
    "print(time.time()-t)\n",
    "var_in_arrs_3['z'] = npzfile['z']\n",
    "print(time.time()-t)\n",
    "var_in_arrs_3['time'] = npzfile['time'] \n",
    "print(time.time()-t)\n",
    "\n",
    "import gc\n",
    "gc.collect()"
   ]
  },
  {
   "cell_type": "code",
   "execution_count": 5,
   "id": "52d461b6-a5eb-44ac-845a-61f80906a204",
   "metadata": {},
   "outputs": [
    {
     "name": "stdout",
     "output_type": "stream",
     "text": [
      "0.21024107933044434\n",
      "0.21040058135986328\n",
      "17.014790296554565\n",
      "17.014902353286743\n",
      "17.01530361175537\n",
      "33.2880220413208\n"
     ]
    },
    {
     "data": {
      "text/plain": [
       "22"
      ]
     },
     "execution_count": 5,
     "metadata": {},
     "output_type": "execute_result"
    }
   ],
   "source": [
    "t = time.time()\n",
    "var_in_arrs_4 = {}\n",
    "npzfile = np.load('/g/data/jk72/yx9454/Euphotic_zone_research_trajectory_in_npz/'+exp_name+'/var_in_arrs_4_5days_freq.npz')\n",
    "#var_in_arrs_4['x'] = npzfile['x']\n",
    "print(time.time()-t)\n",
    "#var_in_arrs_4['y'] = npzfile['y']\n",
    "print(time.time()-t)\n",
    "var_in_arrs_4['z'] = npzfile['z']\n",
    "print(time.time()-t)\n",
    "#var_in_arrs_4['T'] = npzfile['T']\n",
    "print(time.time()-t)\n",
    "#var_in_arrs_4['S'] = npzfile['S']\n",
    "print(time.time()-t)\n",
    "var_in_arrs_4['time'] = npzfile['time'] \n",
    "print(time.time()-t)\n",
    "\n",
    "import gc\n",
    "gc.collect()"
   ]
  },
  {
   "cell_type": "code",
   "execution_count": 12,
   "id": "98f3ff17-7400-4f79-bb32-cb16fa2c4660",
   "metadata": {},
   "outputs": [
    {
     "name": "stdout",
     "output_type": "stream",
     "text": [
      "ERROR! Session/line number was not unique in database. History logging moved to new session 3969\n"
     ]
    }
   ],
   "source": [
    "Duration_away_from_surf_layer = 20 # years\n",
    "surf_lyr_dep = 150 # Meters\n",
    "\n",
    "AABW_thre_dep = 2000\n",
    "AABW_thre_days_0 = 365*2\n",
    "AABW_thre_days_1 = 365*5\n",
    "\n",
    "CDW_thre_dep = 1000# Current default:1000\n",
    "\n",
    "#Forward tracking end time\n",
    "T0 = dt.datetime(2018,12,21)\n",
    "#T0 = dt.datetime(2018,12,31) # Full period # was 2018-12-21\n",
    "\n",
    "#Backward tracking end time\n",
    "#Loop experiment end time # Any date later than 2018-12-1 is invalid\n",
    "T01 = dt.datetime(1969,1,5) # Was 1980-1-1 for analysis until 22/03/2023\n",
    "\n",
    "if T01>= dt.datetime(1987,1,1):\n",
    "    T1 = T01\n",
    "    T2 = dt.datetime(2020,9,9) \n",
    "elif T01< dt.datetime(1987,1,1):\n",
    "    T1 = dt.datetime(1987,1,1) # Full period\n",
    "    T2 = dt.datetime(2018,12,1) - (dt.datetime(1987,1,1) - T01)\n",
    "else:\n",
    "    print('Error')\n",
    "\n",
    "#The comprehensive time includes the loop duration\n",
    "#if T2 < dt.datetime(2018,12,1):\n",
    "#    T01= dt.datetime(1987,1,1) - (dt.datetime(2018,12,1) - T2)\n",
    "#else:\n",
    "#    T01=T1"
   ]
  },
  {
   "cell_type": "code",
   "execution_count": 10,
   "id": "1206b265-1cae-43cf-a39c-0682db11976a",
   "metadata": {},
   "outputs": [],
   "source": [
    "if exp_name == 'MLS_ON':\n",
    "    AABW_inds = np.load('/g/data/jk72/yx9454/PAR_from_iaf_cycle4/'+exp_name+'/AABW_inds.npz')['AABW_inds']\n"
   ]
  },
  {
   "cell_type": "markdown",
   "id": "286485c2-1fb3-4228-bc68-721be0a3de71",
   "metadata": {},
   "source": [
    "# CDW Selection:\n",
    "# Stop particle tracking if a particle remains away from the surface layer/assigned depth for more than a specified number of years."
   ]
  },
  {
   "cell_type": "code",
   "execution_count": 15,
   "id": "6fc2292b-9932-4c0e-a08e-4a3c63d904c9",
   "metadata": {
    "tags": []
   },
   "outputs": [],
   "source": [
    "def find_beginning_of_continuous_val(mask,times): \n",
    "    mask = list(mask)\n",
    "    # Ref: https://segmentfault.com/q/1010000023727627\n",
    "    # Add a 0 at the beginning and end for statistics\n",
    "    mask0 = np.insert(mask, [0, len(mask)], 0)*1\n",
    "    # sum\n",
    "    sum0 = np.cumsum(mask0)\n",
    "    # Take the accumulated value corresponding to the position that does not meet the condition\n",
    "    sum1 = sum0[mask0 == 0]\n",
    "    # Remove overlapping items\n",
    "    sum2 = np.unique(sum1)\n",
    "    #print('sum2',sum2)\n",
    "    # Calculate consecutive numbers by the difference\n",
    "    result = np.diff(sum2)\n",
    "    #\n",
    "    ind  = np.argwhere(result>=times)\n",
    "    if ind.shape == (0,1):\n",
    "        #print('Not found')\n",
    "        return(np.nan,1)\n",
    "    else:\n",
    "        ind2 = np.argwhere(sum0==sum2[ind[0]+1]).min()\n",
    "        #print(np.argwhere(sum1==sum2[ind[0]+1]))\n",
    "        #ind2 += -1\n",
    "        return(ind2-result[ind[0,0]],0)"
   ]
  },
  {
   "cell_type": "markdown",
   "id": "03a79684-401c-45ec-9edf-fddcdfe5bd52",
   "metadata": {
    "jp-MarkdownHeadingCollapsed": true
   },
   "source": [
    "### Generate AABW+CDW particles information with different cut-off thresholds\n",
    "Only need to run once then we directly read the npz file"
   ]
  },
  {
   "cell_type": "raw",
   "id": "ebc79dd3-13ac-414c-8287-82fc64124d5d",
   "metadata": {
    "tags": []
   },
   "source": [
    "if traj_input[exp_name][3]['out_freq'] == traj_input[exp_name][4]['out_freq']:\n",
    "    out_freq = traj_input[exp_name][3]['out_freq']\n",
    "else:\n",
    "    print('var_in_arrs_3 & 4 are not sharing the same output freq. Chunk needed to be modified')\n",
    "\n",
    "Create_or_load = True\n",
    "\n",
    "for surf_lyr_dep in [50,100,150,200,300,400,500,600,700,800,900,1000]:\n",
    "    print('###-------### \\n surf_lyr_dep ',surf_lyr_dep,'m')\n",
    "    #print('CDW_thre_dep ',CDW_thre_dep,'m')\n",
    "    \n",
    "    if   Create_or_load:\n",
    "        stopsign_list = []\n",
    "        not_found     = 0\n",
    "        var_in_arrs_3_aabw_z,var_in_arrs_4_aabw_z = var_in_arrs_3['z'][AABW_inds],var_in_arrs_4['z'][AABW_inds]\n",
    "        for i in np.arange(sum(AABW_inds)):\n",
    "            #if i%3000 == 0:\n",
    "            #    print(i,' finished')\n",
    "            test = np.append(var_in_arrs_3_aabw_z[i,:],var_in_arrs_4_aabw_z[i,:])\n",
    "            a,b = find_beginning_of_continuous_val(test>surf_lyr_dep,365*Duration_away_from_surf_layer/out_freq)\n",
    "            stopsign_list.append(a)\n",
    "            not_found+=b\n",
    "        print(not_found,' particles duration not found')\n",
    "        print(sum(AABW_inds),'AABW particles in total')\n",
    "\n",
    "        '''\n",
    "        #np.savez('/g/data/jk72/yx9454/PAR_from_iaf_cycle4/'+exp_name+'/stopsign_list_for_'+str(Duration_away_from_surf_layer)+'yrs_'+str(surf_lyr_dep)+'m_thre.npz',stopsign_list=stopsign_list)\n",
    "\n",
    "        ###---------------------------------------------------###\n",
    "        # Build the mask for vaild obs based on stopsign_list\n",
    "        valid_mask = np.ones([len(stopsign_list), var_in_arrs_3['time'].shape[1]+var_in_arrs_4['time'].shape[1]])\n",
    "        for i in np.arange(sum(AABW_inds)):\n",
    "            #if i%1000==0:\n",
    "            #    print(i,' done')\n",
    "            end_ind = stopsign_list[i]\n",
    "            valid_mask[i,0:end_ind.astype(int)]=0\n",
    "        valid_mask = valid_mask==0\n",
    "        \n",
    "        var_in_arrs_3['valid_mask'] = valid_mask[:,:var_in_arrs_3['time'].shape[1]]\n",
    "        var_in_arrs_4['valid_mask'] = valid_mask[:,var_in_arrs_3['time'].shape[1]:]\n",
    "        '''\n",
    "        # Get the CDW from the duration away from the surface layer\n",
    "        # Now the CDW inds is only for AABW particles since we only care about them\n",
    "        CDW_inds = ~(np.isnan(stopsign_list))\n",
    "        \n",
    "        print(sum(CDW_inds),' AABW+CDW particles in total')\n",
    "\n",
    "        #np.savez('/g/data/jk72/yx9454/PAR_from_iaf_cycle4/MLS_ON/CDW_inds_for_20yrs_'+str(int(surf_lyr_dep))+'_thre.npz',CDW_inds=CDW_inds)"
   ]
  },
  {
   "cell_type": "markdown",
   "id": "c6521e9a-966b-4383-824b-1f647de7f04d",
   "metadata": {},
   "source": [
    "# Then we start the analysis"
   ]
  },
  {
   "cell_type": "code",
   "execution_count": 31,
   "id": "313e75a5-053e-4ef7-8ea2-b7ca4a5fa958",
   "metadata": {},
   "outputs": [],
   "source": [
    "# Define the threshld for euphotic zone PAR in (watts per square metres)\n",
    "# 2  mol/m^2/day: 5.439369304008213\n",
    "# 3  mol/m^2/day: 8.15905395601232\n",
    "# 4  mol/m^2/day: 10.878738608016427\n",
    "PARZ_thre = 8.159\n",
    "PARZ_thre_L = 5.439\n",
    "PARZ_thre_U = 10.879"
   ]
  },
  {
   "cell_type": "code",
   "execution_count": 32,
   "id": "57714608-c239-48bd-816a-d6d3ee69674e",
   "metadata": {
    "tags": []
   },
   "outputs": [],
   "source": [
    "# In each experiment, we define 06-18, release-06, 05-release, 87-05,\n",
    "# loop_start_point-87 (if availiable) as No 0,1,2,3,4(if availiable)\n",
    "\n",
    "master_path = '/g/data/jk72/yx9454/runs/parcels/output_after_Aug/'\n",
    "traj_input = {'MLS_ON':[{'out_freq': 5,\n",
    "                        'exp_path':'CORE_Curtain_Forward(out_freq=5days)_Following_MLS_ON/'},\n",
    "                        {'out_freq': 5,\n",
    "                        'exp_path':'CORE_Curtain_Forward(out_freq=5days)_Jan-Dec_MLS_ON/'},\n",
    "                        {'out_freq': 0.25,\n",
    "                        'exp_path':'CORE_Curtain_Backwards(out_freq=6hrs)_Jan-Dec_MLS_ON/'},\n",
    "                        {'out_freq': 0.25,\n",
    "                        'exp_path':'CORE_Curtain_Backwards(out_freq=6hrs)_Following_MLS_ON/'},\n",
    "                        {'out_freq': 0.25,\n",
    "                        'exp_path':'CORE_Curtain_Backwards(out_freq=6hrs)_Following_Loop_MLS_ON/'}],\n",
    "}"
   ]
  },
  {
   "cell_type": "code",
   "execution_count": 33,
   "id": "6818a1c0-7797-4f3b-800d-2e785feb04a3",
   "metadata": {
    "tags": []
   },
   "outputs": [
    {
     "name": "stdout",
     "output_type": "stream",
     "text": [
      "/g/data/jk72/yx9454/PAR_from_iaf_cycle4/MLS_ON/Chl-a_based_on_OCCCI_v6/var_in_arrs_0_AABW_only_PARS_Z.npz\n",
      "PARS  loaded\n",
      "PARZ  loaded\n",
      "Pt_ind  loaded\n",
      "/g/data/jk72/yx9454/PAR_from_iaf_cycle4/MLS_ON/Chl-a_based_on_OCCCI_v6/var_in_arrs_1_AABW_only_PARS_Z.npz\n",
      "PARS  loaded\n",
      "PARZ  loaded\n",
      "Pt_ind  loaded\n",
      "/g/data/jk72/yx9454/PAR_from_iaf_cycle4/MLS_ON/Chl-a_based_on_OCCCI_v6/var_in_arrs_2_AABW_only_PARS_Z.npz\n",
      "PARS  loaded\n",
      "PARZ  loaded\n",
      "Pt_ind  loaded\n",
      "/g/data/jk72/yx9454/PAR_from_iaf_cycle4/MLS_ON/Chl-a_based_on_OCCCI_v6/var_in_arrs_3_AABW_only_PARS_Z.npz\n",
      "PARS  loaded\n",
      "PARZ  loaded\n",
      "Pt_ind  loaded\n",
      "/g/data/jk72/yx9454/PAR_from_iaf_cycle4/MLS_ON/Chl-a_based_on_OCCCI_v6/var_in_arrs_4_AABW_only_PARS_Z.npz\n",
      "PARS  loaded\n",
      "PARZ  loaded\n",
      "Pt_ind  loaded\n"
     ]
    }
   ],
   "source": [
    "Chl_a_ver = 'Chl-a_based_on_OCCCI_v6'\n",
    "var_in_arrs_0,var_in_arrs_1,var_in_arrs_2,var_in_arrs_3,var_in_arrs_4 = {},{},{},{},{}\n",
    "\n",
    "for exp_name in ['MLS_ON']:\n",
    "    files = sorted(glob('/g/data/jk72/yx9454/PAR_from_iaf_cycle4/'+exp_name+'/'+Chl_a_ver+'/var_in_arrs_*.npz'))\n",
    "\n",
    "    var_in_arrs_list = [var_in_arrs_0,var_in_arrs_1,var_in_arrs_2,var_in_arrs_3,var_in_arrs_4]\n",
    "    for i in [0,1,2,3,4]:\n",
    "        print(files[i])\n",
    "        for pvar in ['PARS','PARZ','Pt_ind']:\n",
    "            PVAR   = np.load(files[i])[pvar]\n",
    "            var_in_arrs_list[i][exp_name+'_'+pvar]=PVAR\n",
    "            print(pvar,' loaded')"
   ]
  },
  {
   "cell_type": "code",
   "execution_count": 48,
   "id": "7158a6a9-e53e-48c5-8565-ac61dd44504b",
   "metadata": {},
   "outputs": [
    {
     "name": "stdout",
     "output_type": "stream",
     "text": [
      "surf_lyr_dep= 0  calculation done\n",
      "surf_lyr_dep= 50  calculation done\n",
      "surf_lyr_dep= 100  calculation done\n",
      "surf_lyr_dep= 150  calculation done\n",
      "surf_lyr_dep= 200  calculation done\n",
      "surf_lyr_dep= 300  calculation done\n",
      "surf_lyr_dep= 400  calculation done\n",
      "surf_lyr_dep= 500  calculation done\n",
      "surf_lyr_dep= 600  calculation done\n",
      "surf_lyr_dep= 700  calculation done\n",
      "surf_lyr_dep= 800  calculation done\n",
      "surf_lyr_dep= 900  calculation done\n",
      "surf_lyr_dep= 1000  calculation done\n",
      "CPU times: user 1min 48s, sys: 22.6 s, total: 2min 11s\n",
      "Wall time: 2min 11s\n"
     ]
    }
   ],
   "source": [
    "%%time\n",
    "###-------------------------------------------------------------------------------------------###\n",
    "total_shallower_than_EZD_days_back_only = {}\n",
    "total_shallower_than_EZD_days           = {}\n",
    "means                                   = {}\n",
    "CDW_number                              = {}\n",
    "#medians                                 = {}\n",
    "#p10s                                    = {}\n",
    "#p90s                                    = {}\n",
    "#hists                                   = {}\n",
    "###-------------------------------------------------------------------------------------------###\n",
    "for surf_lyr_dep   in [0,50,100,150,200,300,400,500,600,700,800,900,1000]:\n",
    "    if surf_lyr_dep != 0:\n",
    "        CDW_inds = np.load('/g/data/jk72/yx9454/PAR_from_iaf_cycle4/MLS_ON/CDW_inds_for_20yrs_'+str(int(surf_lyr_dep))+'_thre.npz')['CDW_inds']\n",
    "    \n",
    "    ### For PARZ_thre lower limit  ---------------------------------------------------------------###\n",
    "    for PARZ_info,PARZ_thre_here in zip(['PARZ_thre'],\n",
    "                                        [PARZ_thre]):\n",
    "    \n",
    "        # Backwards following\n",
    "        #total_seconds = (T1 - dt.datetime(1970,1,1)).total_seconds()\n",
    "        ind_t = -1\n",
    "        out_freq = traj_input[exp_name][3]['out_freq']\n",
    "        following    = np.sum(var_in_arrs_3[exp_name+'_PARZ'][:,:ind_t]>PARZ_thre_here,axis=1)*out_freq\n",
    "        \n",
    "        # Backwards first year\n",
    "        out_freq = traj_input[exp_name][2]['out_freq']\n",
    "        first_yr = np.sum((var_in_arrs_2[exp_name+'_PARZ'][:,:]>PARZ_thre_here),axis=1)*out_freq\n",
    "        \n",
    "        #The loop exp, starts from 2018-12-1\n",
    "        ind_t = -1\n",
    "        \n",
    "        out_freq = traj_input[exp_name][4]['out_freq']\n",
    "        loop = np.sum((var_in_arrs_4[exp_name+'_PARZ'][:,:ind_t]>PARZ_thre_here),axis=1)*out_freq\n",
    "        \n",
    "        # Forwards first year\n",
    "        if True:\n",
    "            out_freq = traj_input[exp_name][0]['out_freq']\n",
    "            following_forward = np.sum((var_in_arrs_0[exp_name+'_PARZ'][:,:]>PARZ_thre_here),axis=1)*out_freq\n",
    "        \n",
    "        # Forwards following\n",
    "        if True:\n",
    "            ind_t = -1\n",
    "            out_freq = traj_input[exp_name][1]['out_freq']\n",
    "            first_yr_forward = np.sum((var_in_arrs_1[exp_name+'_PARZ'][:,:ind_t]>PARZ_thre_here),axis=1)*out_freq\n",
    "        \n",
    "        total_shallower_than_EZD_days_back_only[PARZ_info] = following + first_yr + loop\n",
    "        total_shallower_than_EZD_days[PARZ_info]           = following + first_yr + following_forward + first_yr_forward + loop\n",
    "\n",
    "        if surf_lyr_dep != 0:\n",
    "            AABW_shallower_than_EZD_plus_CDW =  (total_shallower_than_EZD_days[PARZ_info]>0) & (CDW_inds)\n",
    "        else:\n",
    "            AABW_shallower_than_EZD_plus_CDW =  (total_shallower_than_EZD_days[PARZ_info]>0) \n",
    "        \n",
    "        \n",
    "        #mean_lower = np.mean(total_shallower_than_EZD_days[PARZ_info][AABW_shallower_than_EZD_plus_CDW]/1)\n",
    "        means[surf_lyr_dep] = np.mean(total_shallower_than_EZD_days[PARZ_info][AABW_shallower_than_EZD_plus_CDW]/1)\n",
    "        #medians[PARZ_info] = np.median(total_shallower_than_EZD_days[PARZ_info][AABW_shallower_than_EZD_plus_CDW]/1)\n",
    "        #p10s[PARZ_info] = np.percentile(total_shallower_than_EZD_days[PARZ_info][AABW_shallower_than_EZD_plus_CDW]/1,10)\n",
    "        #p90s[PARZ_info] = np.percentile(total_shallower_than_EZD_days[PARZ_info][AABW_shallower_than_EZD_plus_CDW]/1,90)\n",
    "        \n",
    "        if surf_lyr_dep != 0:\n",
    "            CDW_number[surf_lyr_dep] = np.sum(CDW_inds)\n",
    "        else:\n",
    "            CDW_number[surf_lyr_dep] = AABW_shallower_than_EZD_plus_CDW.shape[0]\n",
    "    \n",
    "        print('surf_lyr_dep=',surf_lyr_dep,' calculation done')"
   ]
  },
  {
   "cell_type": "code",
   "execution_count": 76,
   "id": "fb25711f-2ee9-462b-83bc-5d3f510512ac",
   "metadata": {},
   "outputs": [
    {
     "data": {
      "text/plain": [
       "({0: 41.95373182552504,\n",
       "  50: 39.77247841650874,\n",
       "  100: 39.53545234450102,\n",
       "  150: 39.16186087990488,\n",
       "  200: 38.62785700138641,\n",
       "  300: 37.54564935365797,\n",
       "  400: 36.86377105855238,\n",
       "  500: 36.12793442622951,\n",
       "  600: 35.27014357445473,\n",
       "  700: 34.83950325809803,\n",
       "  800: 34.46291303350161,\n",
       "  900: 34.32646443514644,\n",
       "  1000: 34.01488451668092},\n",
       " {0: 94123,\n",
       "  50: 91059,\n",
       "  100: 90571,\n",
       "  150: 89070,\n",
       "  200: 86779,\n",
       "  300: 81112,\n",
       "  400: 75245,\n",
       "  500: 69275,\n",
       "  600: 63360,\n",
       "  700: 57732,\n",
       "  800: 52139,\n",
       "  900: 46799,\n",
       "  1000: 41858},\n",
       " array([1.07129056, 1.01559215, 1.00953968, 1.        , 0.98636419,\n",
       "        0.95872996, 0.94131817, 0.92252854, 0.90062481, 0.88962839,\n",
       "        0.88001214, 0.87652792, 0.86857171]))"
      ]
     },
     "execution_count": 76,
     "metadata": {},
     "output_type": "execute_result"
    }
   ],
   "source": [
    "means,CDW_number,list(means.values())/means[150]"
   ]
  },
  {
   "cell_type": "code",
   "execution_count": 73,
   "id": "6156583d-acac-4b0b-ba06-0148b539cdf9",
   "metadata": {},
   "outputs": [
    {
     "data": {
      "image/png": "[encoded data removed]",
      "text/plain": [
       "<Figure size 1080x360 with 2 Axes>"
      ]
     },
     "metadata": {
      "needs_background": "light"
     },
     "output_type": "display_data"
    }
   ],
   "source": [
    "\n",
    "# Extracting keys and values\n",
    "x1, y1 = list(means.keys()), )\n",
    "x2, y2 = list(CDW_number.keys()), list(CDW_number.values())\n",
    "\n",
    "\n",
    "# Creating a plot with two y-axes\n",
    "fig, ax1 = plt.subplots(figsize=(15, 5))\n",
    "\n",
    "# First dataset\n",
    "color = 'tab:red'\n",
    "ax1.set_xlabel('CDW cut-off depth (m)',fontsize=12)\n",
    "ax1.set_ylabel('Total euphotic zone residence time (days)', color=color,fontsize=12)\n",
    "ax1.plot([150,150],[0,45],'k--')\n",
    "ax1.plot(x1, y1, marker='o', color=color, label='Dataset 1')\n",
    "ax1.tick_params(axis='y', labelcolor=color)\n",
    "ax1.set_ylim(0,45)\n",
    "\n",
    "\n",
    "# Instantiate a second axes that shares the same x-axis\n",
    "ax2 = ax1.twinx()  \n",
    "color = 'tab:blue'\n",
    "ax2.set_ylabel('AABW + CDW particles', color=color,fontsize=12)  \n",
    "ax2.plot(x2, y2, marker='x', color=color, label='Dataset 2')\n",
    "ax2.tick_params(axis='y', labelcolor=color)\n",
    "ax2.set_ylim(0,120000)\n",
    "# Manually setting x-ticks\n",
    "ax1.set_xticks([0,150,200,400,600,800,1000])  # Update this line for manual x-ticks\n",
    "\n",
    "# Title and legend\n",
    "#fig.legend(loc=\"upper right\")\n",
    "\n",
    "plt.savefig('Revision_Figure_test_CDW_depth_cut-off.png',dpi=500)\n",
    "\n"
   ]
  }
 ],
 "metadata": {
  "kernelspec": {
   "display_name": "Python [conda env:analysis3-22.07]",
   "language": "python",
   "name": "conda-env-analysis3-22.07-py"
  },
  "language_info": {
   "codemirror_mode": {
    "name": "ipython",
    "version": 3
   },
   "file_extension": ".py",
   "mimetype": "text/x-python",
   "name": "python",
   "nbconvert_exporter": "python",
   "pygments_lexer": "ipython3",
   "version": "3.9.15"
  }
 },
 "nbformat": 4,
 "nbformat_minor": 5
}
